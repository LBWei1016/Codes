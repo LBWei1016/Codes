{
 "cells": [
  {
   "cell_type": "code",
   "execution_count": 1,
   "metadata": {},
   "outputs": [],
   "source": [
    "from engineer_economy import *"
   ]
  },
  {
   "cell_type": "code",
   "execution_count": 2,
   "metadata": {},
   "outputs": [
    {
     "name": "stdout",
     "output_type": "stream",
     "text": [
      "-3176.9524601248922 -3498.117689981043\n"
     ]
    },
    {
     "data": {
      "text/plain": [
       "-28158.129091122035"
      ]
     },
     "execution_count": 2,
     "metadata": {},
     "output_type": "execute_result"
    }
   ],
   "source": [
    "a1 = -6000 * A_from_P(0.05, 12) - 2500\n",
    "a2 = -14000 * A_from_P(0.05, 18) - 2400 + 2800 * A_from_F(0.05, 18)\n",
    "print(a1, a2)\n",
    "-6000 -  P_from_A(0.05, 12) * 2500\n",
    "# i = 0.05\n",
    "# -14000 - 2400 * P_from_A(i, 12) + 8000 * P_from_A(i, 6) * P_from_F(i, 12) + 2800 * P_from_F(i, 18)"
   ]
  },
  {
   "cell_type": "code",
   "execution_count": 3,
   "metadata": {},
   "outputs": [],
   "source": [
    "def MVt(i, N, T, S, X) -> float:\n",
    "    return (X * A_from_P(i, N) - S * A_from_F(i, N)) * P_from_A(i, N - T) + S * P_from_F(i, N - T)\n",
    "\n",
    "\n",
    "def AW(i, I, N, A, S):\n",
    "    # return -I * A_from_P(i, N) + A + S * A_from_F(i, N)\n",
    "    return -I * A_from_P(i, N) + A + MVt(i, 7, 5, 4000, I) * A_from_F(i, N)"
   ]
  },
  {
   "cell_type": "code",
   "execution_count": 4,
   "metadata": {},
   "outputs": [
    {
     "name": "stdout",
     "output_type": "stream",
     "text": [
      "mv: 4908.250318877551\n"
     ]
    },
    {
     "data": {
      "text/plain": [
       "6452.608401548335"
      ]
     },
     "execution_count": 4,
     "metadata": {},
     "output_type": "execute_result"
    }
   ],
   "source": [
    "i = 0.12\n",
    "n = 5\n",
    "-3000 * A_from_P(i, n) + 800 + 2000 * A_from_F(i, n)\n",
    "\n",
    "num = 4000 * (A_from_F(i, 7)*P_from_A(i, 2) - P_from_F(i, 2))*A_from_F(i, 5) + (282.59-1300)\n",
    "denum = (A_from_F(i, 5)*P_from_A(i, 2)*A_from_P(i, 7) - A_from_P(i, 5))\n",
    "\n",
    "X = num / denum\n",
    "\n",
    "mv = MVt(i, 7, 5, 4000, X)\n",
    "print(f'mv: {mv}')\n",
    "AW(i, X, 5, 1300, mv)\n",
    "X"
   ]
  },
  {
   "cell_type": "code",
   "execution_count": 5,
   "metadata": {},
   "outputs": [
    {
     "data": {
      "text/plain": [
       "5656.5423430041665"
      ]
     },
     "execution_count": 5,
     "metadata": {},
     "output_type": "execute_result"
    }
   ],
   "source": [
    "P = 5000\n",
    "i = 0.0075\n",
    "P * F_from_P(i, 48) + P * F_from_P(i, 36)\n",
    "10000 / P_from_A(i, 60)\n",
    "13700.25 / P_from_A(i, 60)\n",
    "284.39 * F_from_A(i, 60) - 10000\n",
    "207.58 * F_from_A(i, 60) - 10000"
   ]
  },
  {
   "cell_type": "code",
   "execution_count": 6,
   "metadata": {},
   "outputs": [
    {
     "data": {
      "text/plain": [
       "480.0"
      ]
     },
     "execution_count": 6,
     "metadata": {},
     "output_type": "execute_result"
    }
   ],
   "source": [
    "8000/15\n",
    "4000/3\n",
    "1500-2000*17/60\n",
    "2000*6/25"
   ]
  },
  {
   "cell_type": "code",
   "execution_count": 7,
   "metadata": {},
   "outputs": [
    {
     "name": "stdout",
     "output_type": "stream",
     "text": [
      "360000.0 200000.0\n",
      "160000.0 54400.00000000001\n",
      "305600.0\n"
     ]
    },
    {
     "data": {
      "text/plain": [
       "72481.38764512679"
      ]
     },
     "execution_count": 7,
     "metadata": {},
     "output_type": "execute_result"
    }
   ],
   "source": [
    "N = 60000\n",
    "CF = N*40 * 11 / 12\n",
    "cost = N*24 + 400000\n",
    "D = 800000/4\n",
    "print(CF - cost, D)\n",
    "print(CF - cost - D, 0.34*(CF - cost - D))\n",
    "\n",
    "A = (CF - cost) - 0.34*(CF - cost - D)\n",
    "print(A)\n",
    "-800000 + A * P_from_A(0.15, 4)"
   ]
  },
  {
   "cell_type": "code",
   "execution_count": 8,
   "metadata": {},
   "outputs": [],
   "source": [
    "def PW(i, I, N, A1, A2):\n",
    "    return -I + A1 * P_from_A(i, N) + A2 * P_from_A(i, 2) * P_from_F(i, N)"
   ]
  },
  {
   "cell_type": "code",
   "execution_count": 9,
   "metadata": {},
   "outputs": [
    {
     "data": {
      "text/plain": [
       "152.96284277868108"
      ]
     },
     "execution_count": 9,
     "metadata": {},
     "output_type": "execute_result"
    }
   ],
   "source": [
    "i = 0.12\n",
    "K = P_from_A(i, 5) + P_from_A(i, 2) * P_from_F(i, 5)\n",
    "num = 800000 + 36000 * K - 64000 * P_from_A(i, 5)\n",
    "denum = 42 * K\n",
    "num / denum\n",
    "\n",
    "X = 3828\n",
    "A2 = 0.6 * (70*X - 60000)\n",
    "A1 = A2 + 0.4 * 160000\n",
    "PW(i, 800000, 5, A1, A2)"
   ]
  },
  {
   "cell_type": "code",
   "execution_count": 10,
   "metadata": {},
   "outputs": [
    {
     "name": "stdout",
     "output_type": "stream",
     "text": [
      "0.13126765770940535 0.13126765770940566 499997.49477739935\n"
     ]
    }
   ],
   "source": [
    "x = 500000 / P_from_F(0.035, 25) / F_from_P(0.075, 25) / P_from_two_rates(f=0.08, i=0.075, N=25) / 60000\n",
    "x\n",
    "\n",
    "ir = (0.075 - 0.035) / (1 + 0.035)\n",
    "y = 500000 / P_from_two_rates(f=0.08, i=0.075, N=25) / 60000 / F_from_P(ir, 25)\n",
    "z = 60000 * 0.131267 * P_from_two_rates(f=0.08, i=0.075, N=25) * F_from_P(ir, 25)\n",
    "\n",
    "print(x, y, z)"
   ]
  },
  {
   "cell_type": "code",
   "execution_count": 11,
   "metadata": {},
   "outputs": [
    {
     "data": {
      "text/plain": [
       "9.7656011"
      ]
     },
     "execution_count": 11,
     "metadata": {},
     "output_type": "execute_result"
    }
   ],
   "source": [
    "i = 0.0063\n",
    "(1 - i) * (1 + i)\n",
    "10.7 * (1 - 0.03)**3"
   ]
  },
  {
   "cell_type": "code",
   "execution_count": 12,
   "metadata": {},
   "outputs": [
    {
     "data": {
      "text/plain": [
       "14.948543691337413"
      ]
     },
     "execution_count": 12,
     "metadata": {},
     "output_type": "execute_result"
    }
   ],
   "source": [
    "i_fm = 0.176\n",
    "pw = -85 + 27 * P_from_A(i_fm, 6) + 12 * P_from_F(i_fm, 6)\n",
    "pw"
   ]
  },
  {
   "cell_type": "code",
   "execution_count": 13,
   "metadata": {},
   "outputs": [
    {
     "name": "stdout",
     "output_type": "stream",
     "text": [
      "-70.03139109868846 -63.40657923027307\n"
     ]
    }
   ],
   "source": [
    "i = 0.2\n",
    "n = 5\n",
    "AW0 = -60 - 30 * A_from_P(i, n)\n",
    "AW1 = -120 * A_from_P(i, n) - 30 + 50 * A_from_F(i, n)\n",
    "print(AW0, AW1)"
   ]
  },
  {
   "cell_type": "code",
   "execution_count": 14,
   "metadata": {},
   "outputs": [],
   "source": [
    "def EUAC(i, k, MV, E):\n",
    "    P = MV[0] - MV[k] * P_from_F(i, k) + sum([E[j] * P_from_F(i, j) for j in range(1, k + 1)])\n",
    "    PP = sum([TC(i, j, MV, E) * P_from_F(i, j) for j in range(1, k + 1)])\n",
    "\n",
    "    # print(P, PP)\n",
    "    # print('------------------------')\n",
    "    return P * A_from_P(i, k)\n",
    "    # return PP * A_from_P(i, k)\n",
    "\n",
    "\n",
    "def TC(i, k, MV, E):\n",
    "    return MV[k-1] - MV[k] + i * MV[k-1] + E[k]"
   ]
  },
  {
   "cell_type": "code",
   "execution_count": 15,
   "metadata": {},
   "outputs": [
    {
     "name": "stdout",
     "output_type": "stream",
     "text": [
      "10499.999999999993 10500.0\n",
      "11214.285714285706 12000.0\n",
      "11950.151057401801 13650.0\n",
      "12607.304460245627 15000.0\n"
     ]
    }
   ],
   "source": [
    "# I = 30000\n",
    "# MV = [30000, 22500, 16875, 12750, 9750, 7125]\n",
    "# E = [0, 3000, 4500, 7000, 10000, 13000]\n",
    "\n",
    "# I = 19500\n",
    "MV = [7500, 6000, 4500, 3000, 1500]\n",
    "E = [0, 8250, 9900, 11700, 13200]\n",
    "\n",
    "i = 0.1\n",
    "for k in range(1, len(MV)):\n",
    "    print(EUAC(i, k, MV, E), TC(i, k, MV, E))"
   ]
  },
  {
   "cell_type": "code",
   "execution_count": 16,
   "metadata": {},
   "outputs": [
    {
     "data": {
      "text/plain": [
       "8305.043856373366"
      ]
     },
     "execution_count": 16,
     "metadata": {},
     "output_type": "execute_result"
    }
   ],
   "source": [
    "C = Z = 9000\n",
    "r = 0.04\n",
    "i = 0.05\n",
    "N = 10\n",
    "V = C * P_from_F(i, N) + r * Z * P_from_A(i, N)\n",
    "V"
   ]
  },
  {
   "cell_type": "code",
   "execution_count": 45,
   "metadata": {},
   "outputs": [
    {
     "data": {
      "text/plain": [
       "(2.3290120275769577, 2.3290120275769546)"
      ]
     },
     "execution_count": 45,
     "metadata": {},
     "output_type": "execute_result"
    }
   ],
   "source": [
    "8000/308.57\n",
    "2-0.93/4.42\n",
    "\n",
    "e = 0.1\n",
    "R = 5 * F_from_A(e, 7) * F_from_P(e, 5) + 10 * F_from_A(e, 5) + 400\n",
    "pow(R / 100, 1/15) - 1\n",
    "\n",
    "(100000 * 0.06 * F_from_A(0.02, 10) + 100000) / pow(1.03, 10)\n",
    "pow(1.07, 20) / (1 - pow(1.05/1.06, 20)) / 3 * P_from_F(0.06, 20)\n",
    "Z = 30000\n",
    "inflation = 0.07\n",
    "i = 0.06\n",
    "g = 0.05\n",
    "N = 20\n",
    "F = Z * P_from_two_rates(g, i, N) * F_from_P(i, N)\n",
    "K = sum([30000 * pow(1.05, k) * pow(1.06, 20 - k - 1) for k in range(20)])\n",
    "K /= pow(1 + inflation, N)\n",
    "F /= pow(1 + inflation, N)\n",
    "10**6 / K, 10**6 / F"
   ]
  }
 ],
 "metadata": {
  "kernelspec": {
   "display_name": "Python 3",
   "language": "python",
   "name": "python3"
  },
  "language_info": {
   "codemirror_mode": {
    "name": "ipython",
    "version": 3
   },
   "file_extension": ".py",
   "mimetype": "text/x-python",
   "name": "python",
   "nbconvert_exporter": "python",
   "pygments_lexer": "ipython3",
   "version": "3.10.11"
  }
 },
 "nbformat": 4,
 "nbformat_minor": 2
}
