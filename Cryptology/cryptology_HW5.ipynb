{
 "cells": [
  {
   "cell_type": "code",
   "execution_count": 1,
   "metadata": {},
   "outputs": [],
   "source": [
    "import numpy as np"
   ]
  },
  {
   "cell_type": "code",
   "execution_count": 2,
   "metadata": {},
   "outputs": [],
   "source": [
    "def DL(g, h, p):\n",
    "    for i in range(1, p):\n",
    "        if pow(g, i, p) == h:\n",
    "            return i\n",
    "        \n",
    "def product(arr, p):\n",
    "    prod = 1\n",
    "    for x in arr:\n",
    "        prod = prod * x % p\n",
    "    return prod"
   ]
  },
  {
   "cell_type": "code",
   "execution_count": 3,
   "metadata": {},
   "outputs": [],
   "source": [
    "(p, q, g, h, m) = (139, 23, 6, 80, 7)\n",
    "s = DL(g, h, p)\n",
    "c1 = [112, 106, 44, 129, 57, 79, 55]\n",
    "c2 = [1, 125, 52, 100, 44, 77, 112]\n",
    "C1 = product(c1, p)\n",
    "C2 = product(c2, p)"
   ]
  },
  {
   "cell_type": "code",
   "execution_count": 4,
   "metadata": {},
   "outputs": [],
   "source": [
    "def lambda_i(x0, i0, X, J, q):\n",
    "    numerator = 1\n",
    "    denominator = 1\n",
    "    xi = X[i0]\n",
    "    for j in J:\n",
    "        if j == i0: continue\n",
    "        numerator *= (x0 - X[j])\n",
    "        denominator *= (xi - X[j])\n",
    "    return pow(denominator, -1, q) * numerator % q\n"
   ]
  },
  {
   "cell_type": "code",
   "execution_count": 5,
   "metadata": {},
   "outputs": [
    {
     "name": "stdout",
     "output_type": "stream",
     "text": [
      "[18, 21, 4, 8]\n"
     ]
    }
   ],
   "source": [
    "W = [79, 36, 77, 106]\n",
    "Y = [DL(C1, w, p) for w in W]\n",
    "X = [1, 2, 3, 4]\n",
    "J = [0, 1, 3]\n",
    "Lam0 = [lambda_i(0, i, X, J, q) for i in range(len(W))]\n",
    "print(Lam0)"
   ]
  },
  {
   "cell_type": "code",
   "execution_count": 6,
   "metadata": {},
   "outputs": [
    {
     "name": "stdout",
     "output_type": "stream",
     "text": [
      "beta: 20\n",
      "2 5\n"
     ]
    }
   ],
   "source": [
    "WJL = [W[j]**Lam0[j] for j in J]\n",
    "z = C2 * pow(product(WJL, p), -1, p) % p\n",
    "beta = DL(g, z, p)\n",
    "yes = (m + beta) * pow(2, -1, q) % q\n",
    "no = (m - beta) * pow(2, -1, q) % q\n",
    "\n",
    "print('beta:', beta)\n",
    "print(yes, no)"
   ]
  },
  {
   "cell_type": "code",
   "execution_count": 7,
   "metadata": {},
   "outputs": [
    {
     "name": "stdout",
     "output_type": "stream",
     "text": [
      "[21, 11, 15, 7, 9, 8, 17]\n",
      "[6, 116, 116, 116, 116, 116, 6]\n",
      "[1, 22, 22, 22, 22, 22, 1]\n",
      "12 12\n",
      "112 112 112\n",
      "65 65\n"
     ]
    }
   ],
   "source": [
    "# Reverse votes for answer-checking\n",
    "\n",
    "alpha = [DL(g, c1[i], p) for i in range(m)]\n",
    "print(alpha)\n",
    "blah = [c2[i] * pow(h, -alpha[i], p) % p for i in range(m)]\n",
    "print(blah)\n",
    "V = [DL(g, blah[i], p) for i in range(m)]\n",
    "print(V)\n",
    "\n",
    "C1_check = pow(g, sum(alpha), p)\n",
    "C2_check = pow(g, sum(V), p) * pow(h, sum(alpha), p) % p\n",
    "assert(C1 == C1_check and C2 == C2_check)\n",
    "\n",
    "s_check = sum(Y[j] * Lam0[j] for j in J) % q\n",
    "print(s_check, s)\n",
    "assert(s_check == s)\n",
    "\n",
    "\n",
    "# AssertionError\n",
    "WJL_check = pow(g, s * sum(alpha), p)\n",
    "WJL_check2 = pow(C1, sum(Y[j]*Lam0[j] for j in J), p)\n",
    "print(product(WJL, p), WJL_check, WJL_check2)\n",
    "print(C2 * pow(WJL_check, -1, p) % p, g**20 % p)"
   ]
  }
 ],
 "metadata": {
  "kernelspec": {
   "display_name": "Python 3",
   "language": "python",
   "name": "python3"
  },
  "language_info": {
   "codemirror_mode": {
    "name": "ipython",
    "version": 3
   },
   "file_extension": ".py",
   "mimetype": "text/x-python",
   "name": "python",
   "nbconvert_exporter": "python",
   "pygments_lexer": "ipython3",
   "version": "3.10.11"
  }
 },
 "nbformat": 4,
 "nbformat_minor": 2
}
