{
 "cells": [
  {
   "cell_type": "code",
   "execution_count": 1,
   "metadata": {},
   "outputs": [
    {
     "data": {
      "text/plain": [
       "218"
      ]
     },
     "execution_count": 1,
     "metadata": {},
     "output_type": "execute_result"
    }
   ],
   "source": [
    "pow(23, 247, 323)"
   ]
  },
  {
   "cell_type": "code",
   "execution_count": 14,
   "metadata": {},
   "outputs": [],
   "source": [
    "import numpy as np\n",
    "from random import randint\n",
    "\n",
    "from functools import reduce\n",
    "def factors(n):    \n",
    "    return set(reduce(list.__add__, \n",
    "                ([i, n//i] for i in range(1, int(n**0.5) + 1) if n % i == 0)))"
   ]
  },
  {
   "cell_type": "code",
   "execution_count": 2,
   "metadata": {},
   "outputs": [],
   "source": [
    "def ELGamal_sign(p, g, x, h_m):\n",
    "    k = 5\n",
    "    r = g ** k % p\n",
    "    s = pow(k, -1, p - 1) * (h_m - r * x) % (p - 1)\n",
    "    return (r, s)\n",
    "\n",
    "def ELGamal_verify(p, g, x, h_m, r, s):\n",
    "    lhs = pow(g, h_m, p)\n",
    "    rhs = pow(g, x * r, p)"
   ]
  },
  {
   "cell_type": "code",
   "execution_count": 3,
   "metadata": {},
   "outputs": [
    {
     "data": {
      "text/plain": [
       "(62, 15)"
      ]
     },
     "execution_count": 3,
     "metadata": {},
     "output_type": "execute_result"
    }
   ],
   "source": [
    "ELGamal_sign(103, 11, 37, 23)"
   ]
  },
  {
   "cell_type": "code",
   "execution_count": 17,
   "metadata": {},
   "outputs": [],
   "source": [
    "def expansion(k, n):\n",
    "    for i in range(1, 8):\n",
    "        print(f'{k}**{2**i} mod {n} = {k**(2**i) % n}')"
   ]
  },
  {
   "cell_type": "code",
   "execution_count": 18,
   "metadata": {},
   "outputs": [
    {
     "name": "stdout",
     "output_type": "stream",
     "text": [
      "67**2 mod 103 = 60\n",
      "67**4 mod 103 = 98\n",
      "67**8 mod 103 = 25\n",
      "67**16 mod 103 = 7\n",
      "67**32 mod 103 = 49\n",
      "67**64 mod 103 = 32\n",
      "67**128 mod 103 = 97\n"
     ]
    }
   ],
   "source": [
    "expansion(67, 103)"
   ]
  }
 ],
 "metadata": {
  "kernelspec": {
   "display_name": "Python 3",
   "language": "python",
   "name": "python3"
  },
  "language_info": {
   "codemirror_mode": {
    "name": "ipython",
    "version": 3
   },
   "file_extension": ".py",
   "mimetype": "text/x-python",
   "name": "python",
   "nbconvert_exporter": "python",
   "pygments_lexer": "ipython3",
   "version": "3.10.11"
  }
 },
 "nbformat": 4,
 "nbformat_minor": 2
}
